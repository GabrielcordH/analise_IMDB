{
 "cells": [
  {
   "cell_type": "markdown",
   "id": "c60bb620",
   "metadata": {},
   "source": [
    "# Exploratory Data Analisys (EDA)"
   ]
  },
  {
   "cell_type": "markdown",
   "id": "d63c946d",
   "metadata": {},
   "source": [
    "# P"
   ]
  }
 ],
 "metadata": {
  "kernelspec": {
   "display_name": "base",
   "language": "python",
   "name": "python3"
  },
  "language_info": {
   "name": "python",
   "version": "3.10.9"
  }
 },
 "nbformat": 4,
 "nbformat_minor": 5
}
