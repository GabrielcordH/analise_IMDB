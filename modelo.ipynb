{
 "cells": [
  {
   "cell_type": "markdown",
   "id": "6ad6db95",
   "metadata": {},
   "source": [
    "# Modelagem"
   ]
  },
  {
   "cell_type": "markdown",
   "id": "7f9c0f46",
   "metadata": {},
   "source": [
    "# 1 - Bibliotecas e Dados "
   ]
  },
  {
   "cell_type": "code",
   "execution_count": null,
   "id": "a477712c",
   "metadata": {},
   "outputs": [],
   "source": [
    "import pickle\n",
    "import pandas as pd\n",
    "import numpy as np\n",
    "from sklearn.ensemble import RandomForestRegressor, GradientBoostingRegressor\n",
    "from sklearn.preprocessing import StandardScaler"
   ]
  },
  {
   "cell_type": "code",
   "execution_count": null,
   "id": "27919acf",
   "metadata": {},
   "outputs": [],
   "source": [
    "with open('X_train.pkl', 'rb') as f:\n",
    "    X_train = pickle.load(f)\n",
    "with open('y_train.pkl', 'rb') as f:\n",
    "    y_train = pickle.load(f)\n",
    "with open('X_test.pkl', 'rb') as f:\n",
    "    X_test = pickle.load(f)\n",
    "with open('y_test.pkl', 'rb') as f:\n",
    "    y_test = pickle.load(f)\n"
   ]
  },
  {
   "cell_type": "markdown",
   "id": "a2c0bfdc",
   "metadata": {},
   "source": [
    "## 2 - Modelos"
   ]
  },
  {
   "cell_type": "markdown",
   "id": "441bf014",
   "metadata": {},
   "source": [
    "Vou utilizarum Random Forest, a ideia é que ele é um modelo que assume não linearidade, lida bem com bases pequenas evitando um overfitting e vai poder trabalhar com os tipos de variáveis do nosso modelo\n",
    "Em conjunto, vou aplicar um Gradient Boosting para ir corrigindo o gradiente do erro\n",
    "Como métricas de erro vou utilizar o R² e Mean Squared Errors (MSE) para penalizar erros muito fortes"
   ]
  },
  {
   "cell_type": "code",
   "execution_count": null,
   "id": "22f44f7d",
   "metadata": {},
   "outputs": [
    {
     "name": "stdout",
     "output_type": "stream",
     "text": [
      "Random Forest: MSE = 0.0661, R2 = -0.0044\n",
      "Gradient Boosting: MSE = 0.0139, R2 = 0.7890\n"
     ]
    }
   ],
   "source": [
    "# Garantir DataFrame\n",
    "X_train = pd.DataFrame(X_train)\n",
    "X_test = pd.DataFrame(X_test)\n",
    "\n",
    "# One-hot encoding\n",
    "X_train_enc = pd.get_dummies(X_train)\n",
    "X_test_enc = pd.get_dummies(X_test)\n",
    "\n",
    "X_test_enc = X_test_enc.reindex(columns=X_train_enc.columns, fill_value=0)\n",
    "\n",
    "X_train_enc.replace([np.inf, -np.inf], np.nan, inplace=True)\n",
    "X_test_enc.replace([np.inf, -np.inf], np.nan, inplace=True)\n",
    "\n",
    "X_train_enc.fillna(0, inplace=True)\n",
    "X_test_enc.fillna(0, inplace=True)\n",
    "\n",
    "models = {\n",
    "    'Random Forest': RandomForestRegressor(n_estimators=100, max_depth=3, min_samples_leaf=300, random_state=7),\n",
    "    'Gradient Boosting': GradientBoostingRegressor(n_estimators=100, max_depth=2, min_samples_leaf=300, learning_rate=0.05, random_state=7)\n",
    "} # Limitações para evitar overfiting\n",
    "\n",
    "for name, model in models.items():\n",
    "    model.fit(X_train_enc, y_train)\n",
    "    y_pred = model.predict(X_test_enc)\n",
    "    mse = mean_squared_error(y_test, y_pred)\n",
    "    r2 = r2_score(y_test, y_pred)\n",
    "    print(f\"{name}: MSE = {mse:.4f}, R2 = {r2:.4f}\")"
   ]
  },
  {
   "cell_type": "markdown",
   "id": "c0306807",
   "metadata": {},
   "source": [
    "Com isso temos que o GB é um modelo de classificação adequado, seu erro médio é baixo e o R² elevado, mas nao ao ponto de indicar overfitting, apontam um sucesso do modelo "
   ]
  },
  {
   "cell_type": "markdown",
   "id": "109e836d",
   "metadata": {},
   "source": [
    "### 3 - Classificando o filme The Shawshank Redemption"
   ]
  },
  {
   "cell_type": "code",
   "execution_count": 68,
   "id": "4f4bddf5",
   "metadata": {},
   "outputs": [
    {
     "name": "stdout",
     "output_type": "stream",
     "text": [
      "Gradient Boosting prevê nota: 8.222888558454644\n"
     ]
    }
   ],
   "source": [
    "novo_filme = {\n",
    "    'Series_Title': ['The Shawshank Redemption'],\n",
    "    'Released_Year': [1994],\n",
    "    'Certificate': ['A'],\n",
    "    'Runtime': ['142 min'],\n",
    "    'Genre': ['Drama'],\n",
    "    'Overview': ['Two imprisoned men bond over a number of years, finding solace and eventual redemption through acts of common decency.'],\n",
    "    'Meta_score': [80.0],\n",
    "    'Director': ['Frank Darabont'],\n",
    "    'Star1': ['Tim Robbins'],\n",
    "    'Star2': ['Morgan Freeman'],\n",
    "    'Star3': ['Bob Gunton'],\n",
    "    'Star4': ['William Sadler'],\n",
    "    'No_of_Votes': [2343110],\n",
    "    'Gross': ['28,341,469'] \n",
    "}\n",
    "\n",
    "novo_df = pd.DataFrame(novo_filme)\n",
    "\n",
    "novo_df['Gross'] = novo_df['Gross'].str.replace(',', '').astype(float)\n",
    "novo_df['Runtime'] = novo_df['Runtime'].str.replace(' min','').astype(float)\n",
    "\n",
    "# One-hot encoding\n",
    "novo_df_enc = pd.get_dummies(novo_df)\n",
    "\n",
    "novo_df_enc = novo_df_enc.reindex(columns=X_train_enc.columns, fill_value=0)\n",
    "\n",
    "gbm_pred = models['Gradient Boosting'].predict(novo_df_enc)\n",
    "print(\"Gradient Boosting prevê nota:\", gbm_pred[0])"
   ]
  },
  {
   "cell_type": "markdown",
   "id": "16921992",
   "metadata": {},
   "source": [
    "Considerando que The Shawshank Redemption tem nota 9.3 no IMDB, o erro foi de aproximadamente 1 ponto"
   ]
  }
 ],
 "metadata": {
  "kernelspec": {
   "display_name": "base",
   "language": "python",
   "name": "python3"
  },
  "language_info": {
   "codemirror_mode": {
    "name": "ipython",
    "version": 3
   },
   "file_extension": ".py",
   "mimetype": "text/x-python",
   "name": "python",
   "nbconvert_exporter": "python",
   "pygments_lexer": "ipython3",
   "version": "3.10.9"
  }
 },
 "nbformat": 4,
 "nbformat_minor": 5
}
