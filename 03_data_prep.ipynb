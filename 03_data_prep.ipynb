{
 "cells": [
  {
   "cell_type": "markdown",
   "id": "1714a2da",
   "metadata": {},
   "source": [
    "# Preparação dos Dados   "
   ]
  },
  {
   "cell_type": "markdown",
   "id": "06e2e408",
   "metadata": {},
   "source": [
    "## 1 - Bibliotecas e Dados"
   ]
  },
  {
   "cell_type": "code",
   "execution_count": null,
   "id": "4af64d3d",
   "metadata": {},
   "outputs": [],
   "source": [
    "import pandas as pd\n",
    "import numpy as np\n",
    "import matplotlib.pyplot as  plt\n",
    "import seaborn as sns\n",
    "import sklearn\n",
    "from sklearn.preprocessing import MinMaxScaler\n",
    "from scipy.stats import ttest_ind, mannwhitneyu\n",
    "import scipy.stats as stats\n",
    "import statsmodels.api as sm\n",
    "import statsmodels.api as sm\n",
    "import featuretools as ft\n",
    "from sklearn.linear_model import LinearRegression\n",
    "from sklearn.model_selection import train_test_split\n",
    "import pickle\n",
    "\n",
    "df = pd.read_csv('df_EDA.csv')"
   ]
  },
  {
   "cell_type": "markdown",
   "id": "b59e2b5f",
   "metadata": {},
   "source": [
    "## 2 - Tratamento de Missing Values"
   ]
  },
  {
   "cell_type": "code",
   "execution_count": 8,
   "id": "3f317e9f",
   "metadata": {},
   "outputs": [
    {
     "data": {
      "text/plain": [
       "Unnamed: 0           0\n",
       "Series_Title         0\n",
       "Released_Year        1\n",
       "Released_Month     216\n",
       "Released_Day       216\n",
       "Certificate        101\n",
       "Runtime              0\n",
       "Genre                0\n",
       "IMDB_Rating          0\n",
       "Overview             0\n",
       "Meta_score         156\n",
       "Director             0\n",
       "Star1                0\n",
       "Star2                0\n",
       "Star3                0\n",
       "Star4                0\n",
       "No_of_Votes          0\n",
       "Gross              169\n",
       "release_date       216\n",
       "budget             112\n",
       "ROI                331\n",
       "Gross_log          169\n",
       "No_of_Votes_log      0\n",
       "budget_log         112\n",
       "ROI_log            331\n",
       "dtype: int64"
      ]
     },
     "execution_count": 8,
     "metadata": {},
     "output_type": "execute_result"
    }
   ],
   "source": [
    "df.isna().sum()"
   ]
  },
  {
   "cell_type": "markdown",
   "id": "8d94a657",
   "metadata": {},
   "source": [
    "### 2.1 - Released Year"
   ]
  },
  {
   "cell_type": "markdown",
   "id": "579f2601",
   "metadata": {},
   "source": [
    "Considerando que não teria como imputar o ano que o filme foi produzido, mas também que só tem um filme sem essa informação, vou inserir essa informação"
   ]
  },
  {
   "cell_type": "code",
   "execution_count": 24,
   "id": "8e536ffe",
   "metadata": {},
   "outputs": [
    {
     "data": {
      "text/html": [
       "<div>\n",
       "<style scoped>\n",
       "    .dataframe tbody tr th:only-of-type {\n",
       "        vertical-align: middle;\n",
       "    }\n",
       "\n",
       "    .dataframe tbody tr th {\n",
       "        vertical-align: top;\n",
       "    }\n",
       "\n",
       "    .dataframe thead th {\n",
       "        text-align: right;\n",
       "    }\n",
       "</style>\n",
       "<table border=\"1\" class=\"dataframe\">\n",
       "  <thead>\n",
       "    <tr style=\"text-align: right;\">\n",
       "      <th></th>\n",
       "      <th>Unnamed: 0</th>\n",
       "      <th>Series_Title</th>\n",
       "      <th>Released_Year</th>\n",
       "      <th>Released_Month</th>\n",
       "      <th>Released_Day</th>\n",
       "      <th>Certificate</th>\n",
       "      <th>Runtime</th>\n",
       "      <th>Genre</th>\n",
       "      <th>IMDB_Rating</th>\n",
       "      <th>Overview</th>\n",
       "      <th>...</th>\n",
       "      <th>Star4</th>\n",
       "      <th>No_of_Votes</th>\n",
       "      <th>Gross</th>\n",
       "      <th>release_date</th>\n",
       "      <th>budget</th>\n",
       "      <th>ROI</th>\n",
       "      <th>Gross_log</th>\n",
       "      <th>No_of_Votes_log</th>\n",
       "      <th>budget_log</th>\n",
       "      <th>ROI_log</th>\n",
       "    </tr>\n",
       "  </thead>\n",
       "  <tbody>\n",
       "    <tr>\n",
       "      <th>964</th>\n",
       "      <td>966</td>\n",
       "      <td>Apollo 13</td>\n",
       "      <td>NaN</td>\n",
       "      <td>6.0</td>\n",
       "      <td>30.0</td>\n",
       "      <td>U</td>\n",
       "      <td>140</td>\n",
       "      <td>Adventure, Drama, History</td>\n",
       "      <td>7.6</td>\n",
       "      <td>NASA must devise a strategy to return Apollo 1...</td>\n",
       "      <td>...</td>\n",
       "      <td>Gary Sinise</td>\n",
       "      <td>269197</td>\n",
       "      <td>173837933.0</td>\n",
       "      <td>1995-06-30</td>\n",
       "      <td>52000000.0</td>\n",
       "      <td>2.343037</td>\n",
       "      <td>18.973634</td>\n",
       "      <td>12.503202</td>\n",
       "      <td>17.766754</td>\n",
       "      <td>1.20688</td>\n",
       "    </tr>\n",
       "  </tbody>\n",
       "</table>\n",
       "<p>1 rows × 25 columns</p>\n",
       "</div>"
      ],
      "text/plain": [
       "     Unnamed: 0 Series_Title  Released_Year  Released_Month  Released_Day  \\\n",
       "964         966    Apollo 13            NaN             6.0          30.0   \n",
       "\n",
       "    Certificate  Runtime                      Genre  IMDB_Rating  \\\n",
       "964           U      140  Adventure, Drama, History          7.6   \n",
       "\n",
       "                                              Overview  ...        Star4  \\\n",
       "964  NASA must devise a strategy to return Apollo 1...  ...  Gary Sinise   \n",
       "\n",
       "    No_of_Votes        Gross release_date      budget       ROI  Gross_log  \\\n",
       "964      269197  173837933.0   1995-06-30  52000000.0  2.343037  18.973634   \n",
       "\n",
       "     No_of_Votes_log budget_log  ROI_log  \n",
       "964        12.503202  17.766754  1.20688  \n",
       "\n",
       "[1 rows x 25 columns]"
      ]
     },
     "execution_count": 24,
     "metadata": {},
     "output_type": "execute_result"
    }
   ],
   "source": [
    "df[df['Released_Year'].isna()]"
   ]
  },
  {
   "cell_type": "markdown",
   "id": "959c5434",
   "metadata": {},
   "source": [
    "Apolo 13 é um filme de 1995, logo vou inserir esse valor"
   ]
  },
  {
   "cell_type": "code",
   "execution_count": 42,
   "id": "152bbe5b",
   "metadata": {},
   "outputs": [],
   "source": [
    "df.loc[df['Released_Year'].isna(), 'Released_Year'] = 1995"
   ]
  },
  {
   "cell_type": "markdown",
   "id": "b24d494c",
   "metadata": {},
   "source": [
    "### 2.2 - Released Month e Released Day e Released Date"
   ]
  },
  {
   "cell_type": "markdown",
   "id": "c17637d4",
   "metadata": {},
   "source": [
    "Por conta do alto valor de missings nessas variáveis, vou retiirá-las do modelo, assim evita de perder muita informação"
   ]
  },
  {
   "cell_type": "code",
   "execution_count": 43,
   "id": "e12ca5a0",
   "metadata": {},
   "outputs": [],
   "source": [
    "df = df.drop(columns=['Released_Month', 'Released_Day', 'release_date'])"
   ]
  },
  {
   "cell_type": "markdown",
   "id": "935839f0",
   "metadata": {},
   "source": [
    "### 2.3 - Certificate"
   ]
  },
  {
   "cell_type": "markdown",
   "id": "0ca4d0f3",
   "metadata": {},
   "source": [
    "Para manter uma coerência nas classificações, vou utilizar a moda por gênero, assim gêneros com classificações mais severas como Terror, segurão essas linhas, e mais brandos como romances e familiares também terão uma lógica"
   ]
  },
  {
   "cell_type": "code",
   "execution_count": 44,
   "id": "f2c4fab6",
   "metadata": {},
   "outputs": [],
   "source": [
    "df['Main_Genre'] = df['Genre'].str.split(',').str[0]\n",
    "df['Certificate'] = df.groupby('Main_Genre', group_keys=False)['Certificate'] \\\n",
    "                      .apply(lambda x: x.fillna(x.mode()[0] if not x.mode().empty else 'Not Rated'))"
   ]
  },
  {
   "cell_type": "markdown",
   "id": "4f888f8e",
   "metadata": {},
   "source": [
    "### 2.4 - Meta_score"
   ]
  },
  {
   "cell_type": "markdown",
   "id": "312c1bce",
   "metadata": {},
   "source": [
    "Existem duas opções claras: Imputar diretamente pela mediana, ou usar IMDB_rating como base, vou verificar a correlação (já vista no mapa de correlação na EDA)"
   ]
  },
  {
   "cell_type": "code",
   "execution_count": 28,
   "id": "55b5c4e6",
   "metadata": {},
   "outputs": [
    {
     "name": "stdout",
     "output_type": "stream",
     "text": [
      "Correlação entre IMDB_Rating e Meta_score: 0.27\n"
     ]
    }
   ],
   "source": [
    "corr = df.loc[df['Meta_score'].notna(), 'Meta_score'].corr(\n",
    "    df.loc[df['Meta_score'].notna(), 'IMDB_Rating']\n",
    ")\n",
    "print(f\"Correlação entre IMDB_Rating e Meta_score: {corr:.2f}\")"
   ]
  },
  {
   "cell_type": "markdown",
   "id": "5056c405",
   "metadata": {},
   "source": [
    "Como a correlação é baixa, vou usar a mediana"
   ]
  },
  {
   "cell_type": "code",
   "execution_count": 45,
   "id": "c5177e48",
   "metadata": {},
   "outputs": [],
   "source": [
    "df['Meta_score'] = df['Meta_score'].fillna(df['Meta_score'].median())"
   ]
  },
  {
   "cell_type": "markdown",
   "id": "a26855d6",
   "metadata": {},
   "source": [
    "### 2.5 Gross, Budget e ROI (e seus logs)"
   ]
  },
  {
   "cell_type": "code",
   "execution_count": 30,
   "id": "352182b2",
   "metadata": {},
   "outputs": [
    {
     "name": "stdout",
     "output_type": "stream",
     "text": [
      "Correlação entre budget e Gross: 0.77\n"
     ]
    }
   ],
   "source": [
    "corr_bg = df.loc[df['budget'].notna() & df['Gross'].notna(), 'budget'] \\\n",
    "           .corr(df.loc[df['budget'].notna() & df['Gross'].notna(), 'Gross'])\n",
    "\n",
    "print(f\"Correlação entre budget e Gross: {corr_bg:.2f}\")"
   ]
  },
  {
   "cell_type": "markdown",
   "id": "8a717c8a",
   "metadata": {},
   "source": [
    "Levando em consideração a alta correlação, vou utilizá-los para realizar o imput onde for possível"
   ]
  },
  {
   "cell_type": "code",
   "execution_count": 46,
   "id": "8c7d6a7b",
   "metadata": {},
   "outputs": [],
   "source": [
    "mask_budget = df['budget'].isna() & df['Gross'].notna()\n",
    "if mask_budget.any():\n",
    "    model_budget = LinearRegression()\n",
    "    train_data = df[df['budget'].notna() & df['Gross'].notna()]\n",
    "    model_budget.fit(train_data[['Gross']], train_data['budget'])\n",
    "    df.loc[mask_budget, 'budget'] = model_budget.predict(df.loc[mask_budget, ['Gross']])\n",
    "\n",
    "mask_gross = df['Gross'].isna() & df['budget'].notna()\n",
    "if mask_gross.any():\n",
    "    model_gross = LinearRegression()\n",
    "    train_data = df[df['Gross'].notna() & df['budget'].notna()]\n",
    "    model_gross.fit(train_data[['budget']], train_data['Gross'])\n",
    "    df.loc[mask_gross, 'Gross'] = model_gross.predict(df.loc[mask_gross, ['budget']])\n",
    "    df.loc[mask_gross, 'Gross'] = model_gross.predict(df.loc[mask_gross, ['budget']])"
   ]
  },
  {
   "cell_type": "code",
   "execution_count": 47,
   "id": "3a4caa66",
   "metadata": {},
   "outputs": [
    {
     "data": {
      "text/plain": [
       "Unnamed: 0           0\n",
       "Series_Title         0\n",
       "Released_Year        0\n",
       "Certificate          0\n",
       "Runtime              0\n",
       "Genre                0\n",
       "IMDB_Rating          0\n",
       "Overview             0\n",
       "Meta_score           0\n",
       "Director             0\n",
       "Star1                0\n",
       "Star2                0\n",
       "Star3                0\n",
       "Star4                0\n",
       "No_of_Votes          0\n",
       "Gross               35\n",
       "budget              35\n",
       "ROI                331\n",
       "Gross_log          169\n",
       "No_of_Votes_log      0\n",
       "budget_log         112\n",
       "ROI_log            331\n",
       "Main_Genre           0\n",
       "dtype: int64"
      ]
     },
     "execution_count": 47,
     "metadata": {},
     "output_type": "execute_result"
    }
   ],
   "source": [
    "df.isna().sum()"
   ]
  },
  {
   "cell_type": "markdown",
   "id": "fae1b040",
   "metadata": {},
   "source": [
    "dos 169 dados ausentes em Gross e 112 em Budget, sobraram apenas 36 em cada. Vou preencher o restante com a mediana e em seguida refazer as colunas de ROI e as transformações logarítimicas"
   ]
  },
  {
   "cell_type": "code",
   "execution_count": 48,
   "id": "fc914333",
   "metadata": {},
   "outputs": [],
   "source": [
    "df['budget'] = df['budget'].fillna(df['budget'].median())\n",
    "df['Gross'] = df['Gross'].fillna(df['Gross'].median())"
   ]
  },
  {
   "cell_type": "code",
   "execution_count": 49,
   "id": "a20c321b",
   "metadata": {},
   "outputs": [],
   "source": [
    "df['ROI'] = (df['Gross'] - df['budget']) / df['budget']\n",
    "\n",
    "df['Gross_log'] = np.log1p(df['Gross'])\n",
    "df['budget_log'] = np.log1p(df['budget'])\n",
    "df['ROI_log'] = np.log1p(df['ROI'])"
   ]
  },
  {
   "cell_type": "code",
   "execution_count": 50,
   "id": "169f6ca2",
   "metadata": {},
   "outputs": [
    {
     "data": {
      "text/plain": [
       "Unnamed: 0         0\n",
       "Series_Title       0\n",
       "Released_Year      0\n",
       "Certificate        0\n",
       "Runtime            0\n",
       "Genre              0\n",
       "IMDB_Rating        0\n",
       "Overview           0\n",
       "Meta_score         0\n",
       "Director           0\n",
       "Star1              0\n",
       "Star2              0\n",
       "Star3              0\n",
       "Star4              0\n",
       "No_of_Votes        0\n",
       "Gross              0\n",
       "budget             0\n",
       "ROI                0\n",
       "Gross_log          0\n",
       "No_of_Votes_log    0\n",
       "budget_log         0\n",
       "ROI_log            0\n",
       "Main_Genre         0\n",
       "dtype: int64"
      ]
     },
     "execution_count": 50,
     "metadata": {},
     "output_type": "execute_result"
    }
   ],
   "source": [
    "df.isna().sum()"
   ]
  },
  {
   "cell_type": "code",
   "execution_count": 51,
   "id": "229edff3",
   "metadata": {},
   "outputs": [],
   "source": [
    "df_split = df.copy()"
   ]
  },
  {
   "cell_type": "markdown",
   "id": "0a1e6393",
   "metadata": {},
   "source": [
    "## 3 - Separação em Treino e Teste (Split)"
   ]
  },
  {
   "cell_type": "markdown",
   "id": "1d52ddc8",
   "metadata": {},
   "source": [
    "Considerando que a proposta é prever a nota do imdb, vou isolar ela e fazer o split na proporção 70-30 por ser um dataset pequeno.\n",
    "O modelo será de classificação, não vou utilizar uma estratificação pois algumas notas são muito raras, não valendo a pena criar uma categoria de 'outros' apenas para elas, já que podem ser muito altas ou muito baixas"
   ]
  },
  {
   "cell_type": "code",
   "execution_count": null,
   "id": "d6a7207d",
   "metadata": {},
   "outputs": [],
   "source": [
    "df_split['IMDB_Rating'] = df_split['IMDB_Rating'].astype('category')\n",
    "\n",
    "X_train, X_test, y_train, y_test = train_test_split(\n",
    "    X, y, test_size=0.2, random_state=42\n",
    ")"
   ]
  },
  {
   "cell_type": "markdown",
   "id": "ade2e2e0",
   "metadata": {},
   "source": [
    "## 4 - Feature Engineering"
   ]
  },
  {
   "cell_type": "markdown",
   "id": "fc17e8f3",
   "metadata": {},
   "source": [
    "Para a engenharia de variáveis, vou usar o feature tools, pacote que permite fazer o processo de forma automatizada, assim extraindo mais informações do dataset"
   ]
  },
  {
   "cell_type": "code",
   "execution_count": null,
   "id": "c6d98fa8",
   "metadata": {},
   "outputs": [
    {
     "name": "stderr",
     "output_type": "stream",
     "text": [
      "C:\\Users\\User\\AppData\\Roaming\\Python\\Python310\\site-packages\\featuretools\\entityset\\entityset.py:1733: UserWarning: index index not found in dataframe, creating new integer column\n",
      "  warnings.warn(\n",
      "C:\\Users\\User\\AppData\\Roaming\\Python\\Python310\\site-packages\\featuretools\\synthesis\\deep_feature_synthesis.py:169: UserWarning: Only one dataframe in entityset, changing max_depth to 1 since deeper features cannot be created\n",
      "  warnings.warn(\n"
     ]
    },
    {
     "name": "stdout",
     "output_type": "stream",
     "text": [
      "Built 16 features\n",
      "Elapsed: 00:00 | Progress: 100%|██████████\n"
     ]
    },
    {
     "data": {
      "text/html": [
       "<div>\n",
       "<style scoped>\n",
       "    .dataframe tbody tr th:only-of-type {\n",
       "        vertical-align: middle;\n",
       "    }\n",
       "\n",
       "    .dataframe tbody tr th {\n",
       "        vertical-align: top;\n",
       "    }\n",
       "\n",
       "    .dataframe thead th {\n",
       "        text-align: right;\n",
       "    }\n",
       "</style>\n",
       "<table border=\"1\" class=\"dataframe\">\n",
       "  <thead>\n",
       "    <tr style=\"text-align: right;\">\n",
       "      <th></th>\n",
       "      <th>Unnamed: 0</th>\n",
       "      <th>Released_Year</th>\n",
       "      <th>Certificate</th>\n",
       "      <th>Runtime</th>\n",
       "      <th>Meta_score</th>\n",
       "      <th>No_of_Votes</th>\n",
       "      <th>Gross</th>\n",
       "      <th>budget</th>\n",
       "      <th>ROI</th>\n",
       "      <th>Gross_log</th>\n",
       "      <th>No_of_Votes_log</th>\n",
       "      <th>budget_log</th>\n",
       "      <th>ROI_log</th>\n",
       "      <th>Main_Genre</th>\n",
       "      <th>NUM_CHARACTERS(Overview)</th>\n",
       "      <th>NUM_WORDS(Overview)</th>\n",
       "    </tr>\n",
       "    <tr>\n",
       "      <th>index</th>\n",
       "      <th></th>\n",
       "      <th></th>\n",
       "      <th></th>\n",
       "      <th></th>\n",
       "      <th></th>\n",
       "      <th></th>\n",
       "      <th></th>\n",
       "      <th></th>\n",
       "      <th></th>\n",
       "      <th></th>\n",
       "      <th></th>\n",
       "      <th></th>\n",
       "      <th></th>\n",
       "      <th></th>\n",
       "      <th></th>\n",
       "      <th></th>\n",
       "    </tr>\n",
       "  </thead>\n",
       "  <tbody>\n",
       "    <tr>\n",
       "      <th>0</th>\n",
       "      <td>745</td>\n",
       "      <td>2013.0</td>\n",
       "      <td>UA</td>\n",
       "      <td>91</td>\n",
       "      <td>96.0</td>\n",
       "      <td>769145</td>\n",
       "      <td>2.740927e+08</td>\n",
       "      <td>105000000.0</td>\n",
       "      <td>1.610407</td>\n",
       "      <td>19.428977</td>\n",
       "      <td>13.553036</td>\n",
       "      <td>18.469471</td>\n",
       "      <td>0.959506</td>\n",
       "      <td>Drama</td>\n",
       "      <td>88</td>\n",
       "      <td>14</td>\n",
       "    </tr>\n",
       "    <tr>\n",
       "      <th>1</th>\n",
       "      <td>288</td>\n",
       "      <td>1967.0</td>\n",
       "      <td>A</td>\n",
       "      <td>127</td>\n",
       "      <td>92.0</td>\n",
       "      <td>161984</td>\n",
       "      <td>1.621777e+07</td>\n",
       "      <td>3200000.0</td>\n",
       "      <td>4.068054</td>\n",
       "      <td>16.601618</td>\n",
       "      <td>11.995259</td>\n",
       "      <td>14.978662</td>\n",
       "      <td>1.622957</td>\n",
       "      <td>Crime</td>\n",
       "      <td>93</td>\n",
       "      <td>18</td>\n",
       "    </tr>\n",
       "    <tr>\n",
       "      <th>2</th>\n",
       "      <td>167</td>\n",
       "      <td>1992.0</td>\n",
       "      <td>A</td>\n",
       "      <td>130</td>\n",
       "      <td>85.0</td>\n",
       "      <td>375935</td>\n",
       "      <td>1.011574e+08</td>\n",
       "      <td>14400000.0</td>\n",
       "      <td>6.024823</td>\n",
       "      <td>18.432189</td>\n",
       "      <td>12.837174</td>\n",
       "      <td>16.482739</td>\n",
       "      <td>1.949450</td>\n",
       "      <td>Drama</td>\n",
       "      <td>157</td>\n",
       "      <td>28</td>\n",
       "    </tr>\n",
       "    <tr>\n",
       "      <th>3</th>\n",
       "      <td>961</td>\n",
       "      <td>1997.0</td>\n",
       "      <td>A</td>\n",
       "      <td>134</td>\n",
       "      <td>52.0</td>\n",
       "      <td>131101</td>\n",
       "      <td>3.796699e+06</td>\n",
       "      <td>15000000.0</td>\n",
       "      <td>-0.746887</td>\n",
       "      <td>15.149643</td>\n",
       "      <td>11.783731</td>\n",
       "      <td>16.523561</td>\n",
       "      <td>-1.373918</td>\n",
       "      <td>Mystery</td>\n",
       "      <td>113</td>\n",
       "      <td>15</td>\n",
       "    </tr>\n",
       "    <tr>\n",
       "      <th>4</th>\n",
       "      <td>495</td>\n",
       "      <td>2007.0</td>\n",
       "      <td>U</td>\n",
       "      <td>87</td>\n",
       "      <td>79.0</td>\n",
       "      <td>174125</td>\n",
       "      <td>1.679594e+07</td>\n",
       "      <td>200000.0</td>\n",
       "      <td>82.979680</td>\n",
       "      <td>16.636648</td>\n",
       "      <td>12.067534</td>\n",
       "      <td>12.206078</td>\n",
       "      <td>4.430575</td>\n",
       "      <td>Drama</td>\n",
       "      <td>197</td>\n",
       "      <td>31</td>\n",
       "    </tr>\n",
       "  </tbody>\n",
       "</table>\n",
       "</div>"
      ],
      "text/plain": [
       "       Unnamed: 0  Released_Year Certificate  Runtime  Meta_score  \\\n",
       "index                                                               \n",
       "0             745         2013.0          UA       91        96.0   \n",
       "1             288         1967.0           A      127        92.0   \n",
       "2             167         1992.0           A      130        85.0   \n",
       "3             961         1997.0           A      134        52.0   \n",
       "4             495         2007.0           U       87        79.0   \n",
       "\n",
       "       No_of_Votes         Gross       budget        ROI  Gross_log  \\\n",
       "index                                                                 \n",
       "0           769145  2.740927e+08  105000000.0   1.610407  19.428977   \n",
       "1           161984  1.621777e+07    3200000.0   4.068054  16.601618   \n",
       "2           375935  1.011574e+08   14400000.0   6.024823  18.432189   \n",
       "3           131101  3.796699e+06   15000000.0  -0.746887  15.149643   \n",
       "4           174125  1.679594e+07     200000.0  82.979680  16.636648   \n",
       "\n",
       "       No_of_Votes_log  budget_log   ROI_log Main_Genre  \\\n",
       "index                                                     \n",
       "0            13.553036   18.469471  0.959506      Drama   \n",
       "1            11.995259   14.978662  1.622957      Crime   \n",
       "2            12.837174   16.482739  1.949450      Drama   \n",
       "3            11.783731   16.523561 -1.373918    Mystery   \n",
       "4            12.067534   12.206078  4.430575      Drama   \n",
       "\n",
       "       NUM_CHARACTERS(Overview)  NUM_WORDS(Overview)  \n",
       "index                                                 \n",
       "0                            88                   14  \n",
       "1                            93                   18  \n",
       "2                           157                   28  \n",
       "3                           113                   15  \n",
       "4                           197                   31  "
      ]
     },
     "execution_count": 54,
     "metadata": {},
     "output_type": "execute_result"
    }
   ],
   "source": [
    "es = ft.EntitySet(id='movies')\n",
    "\n",
    "es = es.add_dataframe(\n",
    "    dataframe_name='movies_train',\n",
    "    dataframe=X_train,\n",
    "    index='index',  \n",
    ")\n",
    "\n",
    "feature_matrix, feature_defs = ft.dfs(\n",
    "    entityset=es,\n",
    "    target_dataframe_name='movies_train',\n",
    "    max_depth=2,   \n",
    "    verbose=1\n",
    ")\n",
    "\n",
    "feature_matrix.head()"
   ]
  },
  {
   "cell_type": "markdown",
   "id": "9e52b1b4",
   "metadata": {},
   "source": [
    "O feature tools me deu mais duas variáveis, número de palavras e caracteres na sinópse, agora vou aplicar a mesma coisa no teste"
   ]
  },
  {
   "cell_type": "code",
   "execution_count": 56,
   "id": "0107d4c7",
   "metadata": {},
   "outputs": [],
   "source": [
    "X_test['NUM_CHARACTERS(Overview)'] = X_test['Overview'].apply(len)\n",
    "X_test['NUM_WORDS(Overview)'] = X_test['Overview'].apply(lambda x: len(x.split()))"
   ]
  },
  {
   "cell_type": "code",
   "execution_count": 59,
   "id": "95511c9b",
   "metadata": {},
   "outputs": [],
   "source": [
    "with open('X_train.pkl', 'wb') as f:\n",
    "    pickle.dump(X_train, f)\n",
    "with open('y_train.pkl', 'wb') as f:\n",
    "    pickle.dump(y_train, f)\n",
    "with open('X_test.pkl', 'wb') as f:\n",
    "    pickle.dump(X_test, f)\n",
    "with open('y_test.pkl', 'wb') as f:\n",
    "    pickle.dump(y_test, f)"
   ]
  }
 ],
 "metadata": {
  "kernelspec": {
   "display_name": "base",
   "language": "python",
   "name": "python3"
  },
  "language_info": {
   "codemirror_mode": {
    "name": "ipython",
    "version": 3
   },
   "file_extension": ".py",
   "mimetype": "text/x-python",
   "name": "python",
   "nbconvert_exporter": "python",
   "pygments_lexer": "ipython3",
   "version": "3.10.9"
  }
 },
 "nbformat": 4,
 "nbformat_minor": 5
}
